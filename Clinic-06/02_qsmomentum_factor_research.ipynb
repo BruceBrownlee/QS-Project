{
 "cells": [
  {
   "cell_type": "markdown",
   "id": "693bdd4c",
   "metadata": {},
   "source": [
    "# QUANT SCIENCE LLC\n",
    "## THE QUANT SCIENTIST PRO ALGORITHMIC TRADER\n",
    "### LEVEL 2 PROGRAM\n",
    "---\n",
    "# CLINIC #6: MOMENTUM EDGE DISCOVERY WITH QSRESEARCH\n",
    "\n",
    "## Goal:\n",
    "- Implement a momentum factor pipeline using the QSResearch library.\n",
    "- This will help us discover and analyze momentum edges in financial data.\n",
    "- The pipeline will include universe selection, data preprocessing, and backtesting.\n",
    "- MLflow tracking will be integrated for experiment management."
   ]
  },
  {
   "cell_type": "markdown",
   "id": "b07ce5e9",
   "metadata": {},
   "source": [
    "## Libraries\n",
    "\n",
    "Import all necessary libraries for our momentum factor research pipeline."
   ]
  },
  {
   "cell_type": "code",
   "execution_count": null,
   "id": "1a5ed79a",
   "metadata": {},
   "outputs": [],
   "source": [
    "# Data Analysis\n",
    "import logging\n",
    "import pandas as pd\n",
    "import pytimetk as tk"
   ]
  },
  {
   "cell_type": "code",
   "execution_count": null,
   "id": "b94f4a6c",
   "metadata": {},
   "outputs": [],
   "source": [
    "# Zipline Helpers\n",
    "from zipline.api import date_rules, time_rules"
   ]
  },
  {
   "cell_type": "code",
   "execution_count": null,
   "id": "58f51e45",
   "metadata": {},
   "outputs": [],
   "source": [
    "# QSResearch - Preprocessing\n",
    "from qsresearch.preprocessors import preprocess_price_data, universe_screener"
   ]
  },
  {
   "cell_type": "code",
   "execution_count": null,
   "id": "82b17d3b",
   "metadata": {},
   "outputs": [],
   "source": [
    "# QSResearch - Factor Strategies\n",
    "from qsresearch.strategies.factor import run_backtest\n",
    "from qsresearch.strategies.factor.algorithms import use_factor_as_signal\n",
    "from qsresearch.strategies.factor.portfolio_construction import long_short_equal_weight_portfolio"
   ]
  },
  {
   "cell_type": "code",
   "execution_count": null,
   "id": "0793d6d7",
   "metadata": {},
   "outputs": [],
   "source": [
    "# QS Research - Performance Analysis\n",
    "from qsresearch.portfolio_analysis.returns import create_full_returns_tearsheet_from_zipline\n",
    "from qsresearch.portfolio_analysis.factor import create_full_alpha_factor_tearsheet_from_zipline"
   ]
  },
  {
   "cell_type": "markdown",
   "id": "7078f081",
   "metadata": {},
   "source": [
    "## Environment Variables\n",
    "\n",
    "Set up logging and define key constants for our momentum factor strategy."
   ]
  },
  {
   "cell_type": "code",
   "execution_count": null,
   "id": "5d6175c9",
   "metadata": {},
   "outputs": [],
   "source": [
    "# Set up logging\n",
    "logging.basicConfig(level=logging.INFO)\n",
    "\n",
    "# Constants\n",
    "PREDICTOR_COLS = [\n",
    "    \"close_qsmom_21_252_126\",\n",
    "]"
   ]
  },
  {
   "cell_type": "markdown",
   "id": "6fecb6ad",
   "metadata": {},
   "source": [
    "## Custom Functions\n",
    "\n",
    "Define utility functions for data processing and momentum factor calculation."
   ]
  },
  {
   "cell_type": "code",
   "execution_count": null,
   "id": "225bf481",
   "metadata": {},
   "outputs": [],
   "source": [
    "# Data Printer Function\n",
    "def data_printer(data, label=\"Processed Data\"):\n",
    "    print(f\"\\n{label}:\\n\")\n",
    "    tk.glimpse(data.tail())\n",
    "    return data"
   ]
  },
  {
   "cell_type": "code",
   "execution_count": null,
   "id": "9185b2df",
   "metadata": {},
   "outputs": [],
   "source": [
    "# Add QS Momentum Feature \n",
    "def add_qsmom_features(\n",
    "    data,\n",
    "    roc_fast_period=21,\n",
    "    roc_slow_period=252,\n",
    "    returns_period=126,\n",
    "    date_column=\"date\",\n",
    "    close_column=\"close\",\n",
    "    symbol_column=\"symbol\",\n",
    "    engine=\"polars\",\n",
    "):\n",
    "    \"\"\"\n",
    "    Implements the QS Momentum Factor:\n",
    "\n",
    "    (\n",
    "        (prices[-21] - prices[-252]) / prices[-252] - (prices[-1] - prices[-21]) / prices[-21]\n",
    "    ) / np.nanstd(returns, axis=0)\n",
    "    \"\"\"\n",
    "    ret = data.copy()\n",
    "    try:\n",
    "        ret = ret.groupby(symbol_column).augment_qsmomentum(\n",
    "            date_column=date_column,\n",
    "            close_column=close_column,\n",
    "            roc_fast_period=roc_fast_period,\n",
    "            roc_slow_period=roc_slow_period,\n",
    "            returns_period=returns_period,\n",
    "            engine=engine,\n",
    "        )\n",
    "        logging.info(\"Added QS Momentum\")\n",
    "    except Exception as e:\n",
    "        logging.error(f\"QS Momentum failed: {e}\")\n",
    "        raise Exception(f\"QS Momentum failed: {e}\")\n",
    "    return ret"
   ]
  },
  {
   "cell_type": "markdown",
   "id": "7e0e96e2",
   "metadata": {},
   "source": [
    "# 1.0 Trading Strategy Configuration\n",
    "\n",
    "Configure the complete trading strategy pipeline including:\n",
    "- MLflow tracking settings\n",
    "- Backtest parameters\n",
    "- Preprocessing steps\n",
    "- Algorithm and portfolio construction\n",
    "\n",
    "Reference: [QSResearch run_backtest](https://github.com/quant-science/QSResearch/blob/master/qsresearch/strategies/factor/run_backtest.py)"
   ]
  },
  {
   "cell_type": "code",
   "execution_count": null,
   "id": "c7c71a8a",
   "metadata": {},
   "outputs": [],
   "source": [
    "CONFIG = {\n",
    "    \n",
    "    # MLFlow Tracking\n",
    "    # Must include:\n",
    "    # start_date: Start date of the backtest (pd.Timestamp).\n",
    "    # end_date: End date of the backtest (pd.Timestamp).\n",
    "    # capital_base: Initial capital for the backtest (float).\n",
    "    # bundle_name: Name of the Zipline data bundle (str).\n",
    "    \n",
    "    # Optional keys:\n",
    "    # calendar_name: Trading calendar name (default: 'NYSE').\n",
    "    # custom_handle_data: Custom handle_data function (default: default_handle_data).\n",
    "    # mlflow_tracking_uri:  MLflow tracking server URI (e.g., 'http://mlflow-server:5000').\n",
    "    #                       An empty string, or a local file path, prefixed with file:/ \n",
    "    #                       Data is stored locally at the provided file (or ./mlruns if empty)\n",
    "    #                       Can be an HTTP URI like https://my-tracking-server:5000 (or :8301)\n",
    "    # mlflow_tracking_port: MLflow tracking server port (default: None) - don't use both port and URI.\n",
    "    # mlflow_artifact_root: Artifact storage location (e.g., 's3://my-bucket/mlflow/artifacts').\n",
    "    # mlflow_nested_run: Whether to create a nested run (default: False).\n",
    "    # mlflow_log_metrics_frequency: Frequency for logging metrics (e.g., 'daily', default: None).\n",
    "    # mlflow_artifact_subdir: Subdirectory for artifacts (e.g., 'momentum_backtest'). \"\"\"\n",
    "    \n",
    "    \"use_mlflow\": True,\n",
    "    \"mlflow_tracking_uri\": \"/Users/brucebrownlee/dev/github/Resident/QS-Project/Clinic-06/mlruns\",  # Local file storage for testing\n",
    "    \"mlflow_experiment_name\": \"Momentum Factor Strategy\",\n",
    "    \"mlflow_run_name\": \"qsmom equal weight: long only, volume_top_n=500, no stop loss, 1.5 year\",\n",
    "    \"mlflow_tags\": {\"strategy\": \"simple_momentum\", \"portfolio\": \"equal_weight\"},\n",
    "    \n",
    "    # BACKTEST PARAMETERS:\n",
    "    \"start_date\": pd.Timestamp(\"2024-01-01\"),\n",
    "    \"end_date\": pd.Timestamp(\"2025-07-01\"),\n",
    "    \"capital_base\": 1_000_000,\n",
    "    \"bundle_name\": \"qspro_demo_historical_prices_fmp\",\n",
    "    \"benchmark_symbol\": \"SPY\",  # Set to None to skip benchmark\n",
    "    \"window_length\": 252 * 3,  # zipline bar count window for training and prediction\n",
    "    \"frequency\": \"1d\",\n",
    "    \"predictor_cols\": PREDICTOR_COLS,\n",
    "    \"factor_signal_sort_descending\": True,  # Sort factor signals in descending order\n",
    "    \"calendar_name\": \"NYSE\",  # Default calendar, can be changed\n",
    "    \"extra_init\": None,  # Optional custom initialization function\n",
    "    \"custom_handle_data\": None,  # Optional custom handle_data function\n",
    "    \n",
    "    # BACKTEST FUNCTIONS\n",
    "    \"rebalance_schedule\": {\n",
    "        \"date_rule\": date_rules.month_start(),\n",
    "        \"time_rule\": time_rules.market_open(minutes=60),\n",
    "    },\n",
    "    \"transaction_costs\": {\n",
    "        \"slippage\": {\"spread\": 0.01},\n",
    "        \"commission\": {\"cost\": 0.005, \"min_trade_cost\": 0},\n",
    "    },\n",
    "    # # Add stop-loss settings\n",
    "    # 'stop_loss': {\n",
    "    #     'long_threshold': 0.10,  # 10% stop-loss\n",
    "    #     'short_threshold': 0.10,  # 10% stop-loss\n",
    "    #     'date_rule': date_rules.every_day(),\n",
    "    #     'time_rule': time_rules.market_open(minutes=60),\n",
    "    # },\n",
    "    \n",
    "    # Preprocessing steps applied sequentially\n",
    "    \"preprocess\": [\n",
    "        {\n",
    "            \"name\": \"data_printer_raw\",\n",
    "            \"func\": data_printer,\n",
    "            \"params\": {\"label\": \"Raw Data\"},            \n",
    "        },\n",
    "        {\n",
    "            \"name\": \"screener\",\n",
    "            \"func\": universe_screener,  # Assuming this is from your module\n",
    "            \"params\": {\n",
    "                \"lookback_days\": 2 * 365,\n",
    "                \"volume_top_n\": 500,\n",
    "                \"momentum_top_n\": None,\n",
    "                \"percent_change_filter\": False,\n",
    "                \"max_percent_change\": 0.35,\n",
    "                \"volatility_filter\": True,\n",
    "                \"max_volatility\": 0.25,\n",
    "                \"min_avg_volume\": 100_000,\n",
    "                \"min_avg_price\": 4.0,\n",
    "                \"min_last_price\": 5.0,\n",
    "                \"symbol_column\": \"symbol\",\n",
    "                \"date_column\": \"date\",\n",
    "                \"close_column\": \"close\",\n",
    "                \"volume_column\": \"volume\",\n",
    "            },\n",
    "        },\n",
    "        {\n",
    "            \"name\": \"price_preprocessor\",\n",
    "            \"func\": preprocess_price_data,\n",
    "            \"params\": {\n",
    "                \"min_trading_days\": 252 * 2,\n",
    "                \"remove_low_trading_days\": True,\n",
    "                \"remove_large_gaps\": True,\n",
    "                \"remove_low_volume\": True,\n",
    "                \"symbol_column\": \"symbol\",\n",
    "                \"date_column\": \"date\",\n",
    "                \"open_column\": \"open\",\n",
    "                \"high_column\": \"high\",\n",
    "                \"low_column\": \"low\",\n",
    "                \"close_column\": \"close\",\n",
    "                \"volume_column\": \"volume\",\n",
    "                \"engine\": \"polars\",\n",
    "            },\n",
    "        },\n",
    "        {\n",
    "            \"name\": \"momentum_factor\",\n",
    "            \"func\": add_qsmom_features,\n",
    "            \"params\": {\n",
    "                \"roc_fast_period\": 21,\n",
    "                \"roc_slow_period\": 252,\n",
    "                \"returns_period\": 126,\n",
    "                \"symbol_column\": \"symbol\",\n",
    "                \"date_column\": \"date\",\n",
    "                \"close_column\": \"close\",\n",
    "                \"engine\": \"polars\",\n",
    "            },\n",
    "        },\n",
    "        {\n",
    "            \"name\": \"data_printer_final\",\n",
    "            \"func\": data_printer,  # Optional function to print data post processing\n",
    "            \"params\": {\"label\": \"Processed Data with QS Momentum\"},\n",
    "        },\n",
    "    ],\n",
    "    # Algorithms\n",
    "    \"algorithm\": {\n",
    "        \"func\": use_factor_as_signal,\n",
    "        \"params\": {\n",
    "            \"factor_column\": PREDICTOR_COLS[0],\n",
    "        },\n",
    "    },\n",
    "    # Portfolio Construction:\n",
    "    \"portfolio_strategy\": {\n",
    "        \"func\": long_short_equal_weight_portfolio,\n",
    "        \"params\": {\n",
    "            \"num_long_positions\": 20,\n",
    "            \"long_threshold\": 1.00,\n",
    "            # 'num_short_positions': 20,\n",
    "            # 'short_threshold': -1.00,\n",
    "        },\n",
    "    },\n",
    "}"
   ]
  },
  {
   "cell_type": "markdown",
   "id": "fccf602b",
   "metadata": {},
   "source": [
    "## Run Backtest\n",
    "\n",
    "Execute the momentum factor strategy backtest using the configuration above."
   ]
  },
  {
   "cell_type": "code",
   "execution_count": null,
   "id": "676ce3f0",
   "metadata": {},
   "outputs": [],
   "source": [
    "results = run_backtest(CONFIG)"
   ]
  },
  {
   "cell_type": "markdown",
   "id": "0807dbba",
   "metadata": {},
   "source": [
    "# 2.0 MLflow Tracking\n",
    "\n",
    "## Starting MLflow Server\n",
    "\n",
    "1. Open Terminal and run:\n",
    "   ```bash\n",
    "   mlflow server\n",
    "   ```\n",
    "2. Open Browser and go to:\n",
    "   ```\n",
    "   http://localhost:5000\n",
    "   ```"
   ]
  },
  {
   "cell_type": "markdown",
   "id": "88bca347",
   "metadata": {},
   "source": [
    "# 3.0 How I Use MLflow for Organizing Trading Strategies\n",
    "\n",
    "## 1. MLFlow Directory Folder\n",
    "MLFlow stores all its data in a folder named `mlruns` in the current working directory. This folder contains subfolders for each experiment, and within each experiment, there are subfolders for each run.\n",
    "\n",
    "## 2. MLFlow UI\n",
    "The MLFlow UI provides a web interface to visualize and compare runs, view metrics, parameters, and artifacts. You can access it by running `mlflow ui` in the terminal and navigating to `http://localhost:5000` in your browser.\n",
    "\n",
    "## 3. Experiments vs Runs\n",
    "An experiment is a logical grouping of runs, while a run is a single execution of your code. You can think of an experiment as a folder that contains multiple runs.\n",
    "\n",
    "## 4. Searching Runs\n",
    "- **Search Fields**: `params.start_date = '2024-01-01 00:00:00' AND metrics.portfolio_daily_sharpe >= 0.4`\n",
    "- **Charts**: You can create interactive charts to visualize metrics across runs. By clicking on datapoints, you can filter runs to find the best performing trading strategies.\n",
    "- **Metrics & Params**: You can compare runs based on metrics like Sharpe Ratio, Total Return, etc. This helps in identifying the best performing strategies in Table format.\n",
    "- **Groups**: You can group runs based on parameters or tags to analyze performance across different configurations.\n",
    "- **Hide and Unhide Strategies**: You can hide or unhide specific runs to focus on the most relevant strategies."
   ]
  },
  {
   "cell_type": "markdown",
   "id": "f77aa948",
   "metadata": {},
   "source": [
    "# 4.0 How I Access Trading Strategy Results\n",
    "\n",
    "## 1. Run Overview\n",
    "- **Metadata**: Each run has metadata such as start date, end date, and duration.\n",
    "- **Metrics**: Key metrics like total return, Sharpe ratio, and max drawdown\n",
    "- **Parameters**: Parameters used for the run FROM CONFIG, such as preprocessor parameters, start and end dates, and portfolio construction parameters.\n",
    "\n",
    "## 2. Artifacts\n",
    "Artifacts are files generated during a run. We collect:\n",
    "- **Performance reports**: alphalens, pyfolio\n",
    "- **Backtest results**: zipline performance.pkl file\n",
    "- **Config**: A config.pkl file containing the configuration used for the run\n",
    "- **portfolio_stats.pkl**: A CSV file containing portfolio statistics"
   ]
  },
  {
   "cell_type": "markdown",
   "id": "f0d3fcff",
   "metadata": {},
   "source": [
    "# 5.0 Getting the Strategy Zipline Performance Data\n",
    "\n",
    "**GET THIS PATH FROM THE MLFlow UI > Artifacts > performance.pkl**\n",
    "\n",
    "Bruce runs:\n",
    "```bash\n",
    "mlflow server --port 8031 --backend-store-uri ~/dev/github/resident/qs-project/clinic-06/mlruns\n",
    "```"
   ]
  },
  {
   "cell_type": "code",
   "execution_count": null,
   "id": "5df75e0e",
   "metadata": {},
   "outputs": [],
   "source": [
    "# PATH_TO_PERFORMANCE = \"file:///Users/mdancho/Desktop/course_code/QS02-Quant_Scientist_Algo_Trading_System/mlruns/331281106765637158/f5c0461cd4244801a5554ea4af38f721/artifacts/performance.pkl\"\n",
    "PATH_TO_PERFORMANCE = \"file:////Users/brucebrownlee/dev/github/Resident/QS-Project/Clinic-06/mlruns/800697722943579440/442fb2a3f46e455e9a3b9b0653f0dcb5/artifacts/performance.pkl\"\n",
    "\n",
    "# Load the performance data (this is the *exact* same zipline output from Clinic 2)\n",
    "import pandas as pd\n",
    "performance_df = pd.read_pickle(PATH_TO_PERFORMANCE)\n",
    "performance_df"
   ]
  },
  {
   "cell_type": "code",
   "execution_count": null,
   "id": "96b49ed4",
   "metadata": {},
   "outputs": [],
   "source": [
    "import pytimetk as tk\n",
    "performance_df.glimpse()"
   ]
  },
  {
   "cell_type": "markdown",
   "id": "9646aa91",
   "metadata": {},
   "source": [
    "## Returns Analysis\n",
    "\n",
    "Generate comprehensive returns analysis using QSResearch performance analysis tools."
   ]
  },
  {
   "cell_type": "code",
   "execution_count": null,
   "id": "fd8785e0",
   "metadata": {},
   "outputs": [],
   "source": [
    "create_full_returns_tearsheet_from_zipline(\n",
    "    zipline_results=performance_df,\n",
    "    # engine='pyfolio',\n",
    ")"
   ]
  },
  {
   "cell_type": "markdown",
   "id": "ca3228b7",
   "metadata": {},
   "source": [
    "## Alpha Factor Analysis\n",
    "\n",
    "Analyze the alpha factor performance across different time periods and quantiles."
   ]
  },
  {
   "cell_type": "code",
   "execution_count": null,
   "id": "f528ec0c",
   "metadata": {},
   "outputs": [],
   "source": [
    "create_full_alpha_factor_tearsheet_from_zipline(\n",
    "    zipline_results=performance_df,\n",
    "    periods=(5, 10, 21, 30, 42, 63),\n",
    "    quantiles=20,\n",
    ")"
   ]
  },
  {
   "cell_type": "markdown",
   "id": "c05602b1",
   "metadata": {},
   "source": [
    "# 6.0 Place Trades with Omega App\n",
    "\n",
    "**Note**: This section connects to Interactive Brokers for live trading. Use with caution!"
   ]
  },
  {
   "cell_type": "code",
   "execution_count": null,
   "id": "4433c114",
   "metadata": {},
   "outputs": [],
   "source": [
    "# Omega \n",
    "import omega\n",
    "from omega import start_loop\n",
    "from omega import MarketOrder, Stock\n",
    "from omega.utils.zipline_utils import omega_trades_from_zipline\n",
    "\n",
    "# Calling `start_loop` is only required when using Omega in a Jupyter Notebook.\n",
    "start_loop()\n",
    "\n",
    "# Instantiate the Omega app\n",
    "app = omega.Omega()\n",
    "\n",
    "print(app.is_connected())"
   ]
  },
  {
   "cell_type": "code",
   "execution_count": null,
   "id": "6eef911a",
   "metadata": {},
   "outputs": [],
   "source": [
    "# Current positions in IBKR\n",
    "positions = app.positions_as_symbols()\n",
    "positions"
   ]
  },
  {
   "cell_type": "code",
   "execution_count": null,
   "id": "3716b009",
   "metadata": {},
   "outputs": [],
   "source": [
    "# Backtest positions from the performance DataFrame\n",
    "bt_positions = [d[\"sid\"].symbol for d in performance_df.positions.iloc[-1]]\n",
    "bt_positions"
   ]
  },
  {
   "cell_type": "code",
   "execution_count": null,
   "id": "cf0622e2",
   "metadata": {},
   "outputs": [],
   "source": [
    "# Calculate positions to liquidate\n",
    "divest = list(set(positions) - set(bt_positions))\n",
    "divest"
   ]
  },
  {
   "cell_type": "code",
   "execution_count": null,
   "id": "d2eb976d",
   "metadata": {},
   "outputs": [],
   "source": [
    "# Divest from positions not in the backtest\n",
    "for sym in divest:\n",
    "    contract = Stock(sym, \"SMART\", \"USD\")\n",
    "    \n",
    "    try:\n",
    "        logging.info(f\"Divesting {sym}...\")\n",
    "        app.order_target_percent(\n",
    "            contract=contract, order_type=MarketOrder, target=0.0\n",
    "        )\n",
    "    except Exception as e:\n",
    "        logging.error(f\"Failed to divest {sym}: {e}\")\n",
    "        continue"
   ]
  },
  {
   "cell_type": "code",
   "execution_count": null,
   "id": "be34c281",
   "metadata": {},
   "outputs": [],
   "source": [
    "# Invest in backtest positions\n",
    "weights = [1.0 / len(bt_positions)] * len(bt_positions)  # Equal weight for each position\n",
    "\n",
    "for i, sym in enumerate(bt_positions):\n",
    "    contract = Stock(sym, \"SMART\", \"USD\")\n",
    "    app.order_target_percent(\n",
    "        contract=contract, order_type=MarketOrder, target=weights[i]\n",
    "    )"
   ]
  },
  {
   "cell_type": "code",
   "execution_count": null,
   "id": "9e1eacf5",
   "metadata": {},
   "outputs": [],
   "source": [
    "# Disconnect from the Omega app\n",
    "app.disconnect()"
   ]
  },
  {
   "cell_type": "markdown",
   "id": "b2ce2974",
   "metadata": {},
   "source": [
    "# 7.0 Next Steps\n",
    "\n",
    "1. We validated the QS Momentum factor for 1.5 years at 21 day rebalance frequency.\n",
    "2. Increase the backtest period to **20 years** to validate the factor over a longer time horizon.\n",
    "3. Then start trading in paper trading it if the factor is profitable.\n",
    "\n",
    "## Coming in Clinic #7:\n",
    "\n",
    "1. We will implement a **multi-factor model** using the QSResearch library WITH MACHINE LEARNING.\n",
    "2. We will use the QSConnect library to fetch Fundamental data and build a Momentum + Fundamental Factor Strategy.\n",
    "3. We will leverage FMP Fundamental data to enhance our trading strategies."
   ]
  }
 ],
 "metadata": {
  "language_info": {
   "name": "python"
  }
 },
 "nbformat": 4,
 "nbformat_minor": 5
}
