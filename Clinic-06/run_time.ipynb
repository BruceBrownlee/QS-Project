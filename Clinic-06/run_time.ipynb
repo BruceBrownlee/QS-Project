{
 "cells": [
  {
   "cell_type": "code",
   "execution_count": 21,
   "id": "846906fa",
   "metadata": {},
   "outputs": [],
   "source": [
    "from datetime import datetime, timezone\n",
    "import pytz"
   ]
  },
  {
   "cell_type": "code",
   "execution_count": 22,
   "id": "7a0e948e",
   "metadata": {},
   "outputs": [],
   "source": [
    "\n",
    "def epoch_to_timezones(epoch_ms):\n",
    "    \"\"\"Converts a Unix epoch timestamp in milliseconds to UTC and Eastern Time.\"\"\"\n",
    "\n",
    "    # Convert milliseconds to seconds\n",
    "    seconds = epoch_ms / 1000.0\n",
    "\n",
    "    # Use timezone-aware method for UTC datetime (Python 3.11+)\n",
    "    utc_datetime = datetime.fromtimestamp(seconds, tz=timezone.utc)\n",
    "\n",
    "    # Define Eastern Time zone (handles DST)\n",
    "    eastern = pytz.timezone(\"America/New_York\")\n",
    "    est_datetime = utc_datetime.astimezone(eastern)\n",
    "\n",
    "    return utc_datetime, est_datetime\n",
    "\n",
    "  "
   ]
  },
  {
   "cell_type": "code",
   "execution_count": 23,
   "id": "ab4eaf5b",
   "metadata": {},
   "outputs": [
    {
     "name": "stdout",
     "output_type": "stream",
     "text": [
      "\n",
      "Original Unix timestamp (ms): 1754362724619\n",
      "UTC time               : 2025-08-05 02:58:44 UTC+0000\n",
      "America/New_York time  : 2025-08-04 22:58:44 EDT-0400\n"
     ]
    }
   ],
   "source": [
    "# --- User Input ---  \n",
    "while True:\n",
    "    user_input = input(\"Enter a Unix epoch timestamp (in milliseconds): \")\n",
    "    try:\n",
    "        unix_timestamp = int(user_input)\n",
    "        break\n",
    "    except ValueError:\n",
    "        print(\"Invalid input! Please enter a valid integer.\")\n",
    "\n",
    "# --- Conversion ---\n",
    "utc_time, est_time = epoch_to_timezones(unix_timestamp)\n",
    "\n",
    "# --- Output ---\n",
    "print(f\"\\nOriginal Unix timestamp (ms): {unix_timestamp}\")\n",
    "print(f\"UTC time               : {utc_time.strftime('%Y-%m-%d %H:%M:%S %Z%z')}\")\n",
    "print(f\"America/New_York time  : {est_time.strftime('%Y-%m-%d %H:%M:%S %Z%z')}\")"
   ]
  },
  {
   "cell_type": "code",
   "execution_count": null,
   "id": "4644c758",
   "metadata": {},
   "outputs": [],
   "source": []
  }
 ],
 "metadata": {
  "kernelspec": {
   "display_name": "base",
   "language": "python",
   "name": "python3"
  },
  "language_info": {
   "codemirror_mode": {
    "name": "ipython",
    "version": 3
   },
   "file_extension": ".py",
   "mimetype": "text/x-python",
   "name": "python",
   "nbconvert_exporter": "python",
   "pygments_lexer": "ipython3",
   "version": "3.12.7"
  }
 },
 "nbformat": 4,
 "nbformat_minor": 5
}
